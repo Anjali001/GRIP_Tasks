{
  "nbformat": 4,
  "nbformat_minor": 0,
  "metadata": {
    "colab": {
      "name": "KMeans_Clustering.ipynb",
      "provenance": [],
      "collapsed_sections": [],
      "authorship_tag": "ABX9TyPiqubCFkPBFzAift3SI0zY",
      "include_colab_link": true
    },
    "kernelspec": {
      "name": "python3",
      "display_name": "Python 3"
    }
  },
  "cells": [
    {
      "cell_type": "markdown",
      "metadata": {
        "id": "view-in-github",
        "colab_type": "text"
      },
      "source": [
        "<a href=\"https://colab.research.google.com/github/Anjali001/GRIP_Tasks/blob/master/KMeans_Clustering.ipynb\" target=\"_parent\"><img src=\"https://colab.research.google.com/assets/colab-badge.svg\" alt=\"Open In Colab\"/></a>"
      ]
    },
    {
      "cell_type": "markdown",
      "metadata": {
        "id": "wWP7ZNwXqede",
        "colab_type": "text"
      },
      "source": [
        "# **K-means Clustering**\n",
        "\n",
        "This is an unsupervised algorithm which is used when we have unlabelled data. The goal of this algorithm is to find groups in data (number of groups is represented by K).\n",
        "\n",
        "Mathematically, this algorithm separates n points into k groups, where k<=n.\n",
        "\n",
        "First, a set of k random points are chosen as centroids. Now , rest of the points are assigned to closest cluster centroid.Then again, centroid of newly formed cluster i sfound and whole process is repated. This keeps on repeating until centroid of newly formed clusters is same OR maxiumum number of iterations reached OR points don'e change in cluster.\n",
        "\n",
        "It has various applications like customer segmentation,recommendation engine etc..\n",
        "\n",
        "\n",
        "\n",
        "\n"
      ]
    },
    {
      "cell_type": "markdown",
      "metadata": {
        "id": "SRBW97yPqgIu",
        "colab_type": "text"
      },
      "source": [
        "\n",
        "\n",
        "---\n",
        "\n",
        "\n",
        "### **Author:**\n",
        "Anjali Pal\n",
        "\n",
        "Data Science and Analytics Intern \n",
        "\n",
        "The Sparks Foundation\n",
        "\n",
        "\n",
        "---\n",
        "\n"
      ]
    },
    {
      "cell_type": "markdown",
      "metadata": {
        "id": "CvlFF8czqjbv",
        "colab_type": "text"
      },
      "source": [
        "### Problem Statement:\n",
        "From the given ‘Iris’ dataset, predict the optimum number of\n",
        "clusters and represent it visually.\n",
        "Dataset:https://drive.google.com/file/d/11Iq7YvbWZbt8VXjfm06brx66b10YiwK-/view?usp=sharing"
      ]
    },
    {
      "cell_type": "markdown",
      "metadata": {
        "id": "fQyuk-XoxFvz",
        "colab_type": "text"
      },
      "source": [
        "### Step 1: Importing Libraries"
      ]
    },
    {
      "cell_type": "code",
      "metadata": {
        "id": "WxSiDI_nuf5_",
        "colab_type": "code",
        "colab": {}
      },
      "source": [
        "import matplotlib.pyplot as plt\n",
        "import pandas as pd\n",
        "from sklearn import datasets\n",
        "%matplotlib inline"
      ],
      "execution_count": null,
      "outputs": []
    },
    {
      "cell_type": "markdown",
      "metadata": {
        "id": "ixf6_MZIxOx7",
        "colab_type": "text"
      },
      "source": [
        "### Step 2: Reading data"
      ]
    },
    {
      "cell_type": "code",
      "metadata": {
        "id": "trxLrOGVxTPZ",
        "colab_type": "code",
        "colab": {
          "base_uri": "https://localhost:8080/",
          "height": 195
        },
        "outputId": "87f58ad5-3091-4688-fad8-591f64f5ebe4"
      },
      "source": [
        "iris = datasets.load_iris()\n",
        "data = pd.DataFrame(iris.data,columns= iris.feature_names )\n",
        "data.head()"
      ],
      "execution_count": null,
      "outputs": [
        {
          "output_type": "execute_result",
          "data": {
            "text/html": [
              "<div>\n",
              "<style scoped>\n",
              "    .dataframe tbody tr th:only-of-type {\n",
              "        vertical-align: middle;\n",
              "    }\n",
              "\n",
              "    .dataframe tbody tr th {\n",
              "        vertical-align: top;\n",
              "    }\n",
              "\n",
              "    .dataframe thead th {\n",
              "        text-align: right;\n",
              "    }\n",
              "</style>\n",
              "<table border=\"1\" class=\"dataframe\">\n",
              "  <thead>\n",
              "    <tr style=\"text-align: right;\">\n",
              "      <th></th>\n",
              "      <th>sepal length (cm)</th>\n",
              "      <th>sepal width (cm)</th>\n",
              "      <th>petal length (cm)</th>\n",
              "      <th>petal width (cm)</th>\n",
              "    </tr>\n",
              "  </thead>\n",
              "  <tbody>\n",
              "    <tr>\n",
              "      <th>0</th>\n",
              "      <td>5.1</td>\n",
              "      <td>3.5</td>\n",
              "      <td>1.4</td>\n",
              "      <td>0.2</td>\n",
              "    </tr>\n",
              "    <tr>\n",
              "      <th>1</th>\n",
              "      <td>4.9</td>\n",
              "      <td>3.0</td>\n",
              "      <td>1.4</td>\n",
              "      <td>0.2</td>\n",
              "    </tr>\n",
              "    <tr>\n",
              "      <th>2</th>\n",
              "      <td>4.7</td>\n",
              "      <td>3.2</td>\n",
              "      <td>1.3</td>\n",
              "      <td>0.2</td>\n",
              "    </tr>\n",
              "    <tr>\n",
              "      <th>3</th>\n",
              "      <td>4.6</td>\n",
              "      <td>3.1</td>\n",
              "      <td>1.5</td>\n",
              "      <td>0.2</td>\n",
              "    </tr>\n",
              "    <tr>\n",
              "      <th>4</th>\n",
              "      <td>5.0</td>\n",
              "      <td>3.6</td>\n",
              "      <td>1.4</td>\n",
              "      <td>0.2</td>\n",
              "    </tr>\n",
              "  </tbody>\n",
              "</table>\n",
              "</div>"
            ],
            "text/plain": [
              "   sepal length (cm)  sepal width (cm)  petal length (cm)  petal width (cm)\n",
              "0                5.1               3.5                1.4               0.2\n",
              "1                4.9               3.0                1.4               0.2\n",
              "2                4.7               3.2                1.3               0.2\n",
              "3                4.6               3.1                1.5               0.2\n",
              "4                5.0               3.6                1.4               0.2"
            ]
          },
          "metadata": {
            "tags": []
          },
          "execution_count": 60
        }
      ]
    },
    {
      "cell_type": "markdown",
      "metadata": {
        "id": "AA__-LGY3XmX",
        "colab_type": "text"
      },
      "source": [
        "### Step 3: Preparing Data"
      ]
    },
    {
      "cell_type": "code",
      "metadata": {
        "id": "rW0Lg-jozITm",
        "colab_type": "code",
        "colab": {}
      },
      "source": [
        "x = data.iloc[:, [0, 1, 2, 3]].values\n",
        "from sklearn.cluster import KMeans\n",
        "inertia_values = []\n",
        "for i in range(1, 10):\n",
        "    kmeans = KMeans(n_clusters = i, init = 'k-means++', max_iter = 300, n_init = 10, random_state = 0)\n",
        "    kmeans.fit(x)\n",
        "    inertia_values.append(kmeans.inertia_)"
      ],
      "execution_count": null,
      "outputs": []
    },
    {
      "cell_type": "code",
      "metadata": {
        "id": "RLaStdro0W_p",
        "colab_type": "code",
        "colab": {
          "base_uri": "https://localhost:8080/",
          "height": 67
        },
        "outputId": "24759b48-cfd8-43e4-dffb-be7b20481407"
      },
      "source": [
        "kmeans"
      ],
      "execution_count": null,
      "outputs": [
        {
          "output_type": "execute_result",
          "data": {
            "text/plain": [
              "KMeans(algorithm='auto', copy_x=True, init='k-means++', max_iter=300,\n",
              "       n_clusters=9, n_init=10, n_jobs=None, precompute_distances='auto',\n",
              "       random_state=0, tol=0.0001, verbose=0)"
            ]
          },
          "metadata": {
            "tags": []
          },
          "execution_count": 62
        }
      ]
    },
    {
      "cell_type": "markdown",
      "metadata": {
        "id": "rpkj8qQ03cbR",
        "colab_type": "text"
      },
      "source": [
        "### Step 4: Finding optimal number of clusters"
      ]
    },
    {
      "cell_type": "code",
      "metadata": {
        "id": "oWX-sXJp18uH",
        "colab_type": "code",
        "colab": {
          "base_uri": "https://localhost:8080/",
          "height": 295
        },
        "outputId": "468e4d20-c764-4011-d94b-5d929d32fee4"
      },
      "source": [
        "plt.plot(range(1,10),inertia_values)\n",
        "plt.xlabel('Number of Clusters')\n",
        "plt.ylabel('Inertia Values')\n",
        "plt.title('Elbow Method for optimum number of clusters')\n",
        "plt.show()"
      ],
      "execution_count": null,
      "outputs": [
        {
          "output_type": "display_data",
          "data": {
            "image/png": "[encoded data removed]",
            "text/plain": [
              "<Figure size 432x288 with 1 Axes>"
            ]
          },
          "metadata": {
            "tags": [],
            "needs_background": "light"
          }
        }
      ]
    },
    {
      "cell_type": "markdown",
      "metadata": {
        "id": "5T2GeVPs3HV5",
        "colab_type": "text"
      },
      "source": [
        "To determine the optimal number of clusters, select the value of k at the “elbow” i.e. the point after which the inertia start decreasing in a linear fashion. \n",
        "\n",
        "Thus for the given data, we conclude that the optimal number of clusters for the data is 3."
      ]
    },
    {
      "cell_type": "markdown",
      "metadata": {
        "id": "1JJ536ve3ive",
        "colab_type": "text"
      },
      "source": [
        "### Step 6: Representing clusters visually"
      ]
    },
    {
      "cell_type": "code",
      "metadata": {
        "id": "MqmeNInB3FvS",
        "colab_type": "code",
        "colab": {}
      },
      "source": [
        "kmeans = KMeans(n_clusters = 3, init = 'k-means++',max_iter = 300, n_init = 10, random_state = 0)\n",
        "y_kmeans = kmeans.fit_predict(x)\n",
        "#print(x[y_kmeans==0])"
      ],
      "execution_count": null,
      "outputs": []
    },
    {
      "cell_type": "code",
      "metadata": {
        "id": "y_MXw6AzJtrF",
        "colab_type": "code",
        "colab": {
          "base_uri": "https://localhost:8080/",
          "height": 67
        },
        "outputId": "0c3b8980-a5eb-4747-ce68-1ecddc367a57"
      },
      "source": [
        "print(kmeans.cluster_centers_)"
      ],
      "execution_count": null,
      "outputs": [
        {
          "output_type": "stream",
          "text": [
            "[[6.85       3.07368421 5.74210526 2.07105263]\n",
            " [5.006      3.428      1.462      0.246     ]\n",
            " [5.9016129  2.7483871  4.39354839 1.43387097]]\n"
          ],
          "name": "stdout"
        }
      ]
    },
    {
      "cell_type": "code",
      "metadata": {
        "id": "TZ0tYyZLHmsP",
        "colab_type": "code",
        "colab": {
          "base_uri": "https://localhost:8080/",
          "height": 295
        },
        "outputId": "61482d02-6fab-4fd5-d0c8-9d7ce9b237a5"
      },
      "source": [
        "plt.scatter(x[y_kmeans == 0, 0], x[y_kmeans == 0, 1], s = 50, c = 'lightcoral', label = 'Iris-setosa') # Flower names can be seen in description\n",
        "plt.scatter(x[y_kmeans == 1, 0], x[y_kmeans == 1, 1], s = 50, c = 'lightblue', label = 'Iris-versicolour')\n",
        "plt.scatter(x[y_kmeans == 2, 0], x[y_kmeans == 2, 1],s = 50, c = 'silver', label = 'Iris-virginica')\n",
        "#I've plotted this based on sepal length and sepal width . \n",
        "plt.xlabel('Sepal Length')\n",
        "plt.ylabel('Sepal Width')\n",
        "plt.title('Clusters in Iris Data')\n",
        "plt.scatter(kmeans.cluster_centers_[0,0],kmeans.cluster_centers_[0,1],label ='Setosa_Centroid',c='red',s=70 )\n",
        "plt.scatter(kmeans.cluster_centers_[1,0],kmeans.cluster_centers_[1,1],label ='Versicolor_Centroid',c='Blue',s=70 )\n",
        "plt.scatter(kmeans.cluster_centers_[2,0],kmeans.cluster_centers_[2,1],label ='Virginica_Centroid',c='black',s=70 )\n",
        "plt.legend(loc='upper right',bbox_to_anchor=(1.5, 1))\n",
        "plt.show()\n"
      ],
      "execution_count": null,
      "outputs": [
        {
          "output_type": "display_data",
          "data": {
            "image/png": "[encoded data removed]",
            "text/plain": [
              "<Figure size 432x288 with 1 Axes>"
            ]
          },
          "metadata": {
            "tags": [],
            "needs_background": "light"
          }
        }
      ]
    }
  ]
}