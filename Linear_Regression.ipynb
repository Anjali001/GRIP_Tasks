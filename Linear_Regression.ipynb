{
  "nbformat": 4,
  "nbformat_minor": 0,
  "metadata": {
    "colab": {
      "name": "Linear_Regression.ipynb",
      "provenance": [],
      "collapsed_sections": [],
      "authorship_tag": "ABX9TyNs6URz+f6ODFvsiuRMGn0T",
      "include_colab_link": true
    },
    "kernelspec": {
      "name": "python3",
      "display_name": "Python 3"
    }
  },
  "cells": [
    {
      "cell_type": "markdown",
      "metadata": {
        "id": "view-in-github",
        "colab_type": "text"
      },
      "source": [
        "<a href=\"https://colab.research.google.com/github/Anjali001/GRIP_Tasks/blob/master/Linear_Regression.ipynb\" target=\"_parent\"><img src=\"https://colab.research.google.com/assets/colab-badge.svg\" alt=\"Open In Colab\"/></a>"
      ]
    },
    {
      "cell_type": "markdown",
      "metadata": {
        "id": "igz6rsMeA-AO",
        "colab_type": "text"
      },
      "source": [
        "# **Linear Regression Using Scikit Learn**\n",
        "\n",
        "Regression is one of the algorithms for Supervised Machine Learning.\n",
        "\n",
        "In this approach , it is assumed that the dependent and independent variable are linearly related.\n",
        "\n",
        "\n"
      ]
    },
    {
      "cell_type": "markdown",
      "metadata": {
        "id": "S6PYykYaJznp",
        "colab_type": "text"
      },
      "source": [
        "\n",
        "\n",
        "---\n",
        "\n",
        "\n",
        "### **Author:**\n",
        "Anjali Pal\n",
        "\n",
        "Data Science and Analytics Intern \n",
        "\n",
        "The Sparks Foundation\n",
        "\n",
        "\n",
        "---\n",
        "\n"
      ]
    },
    {
      "cell_type": "markdown",
      "metadata": {
        "id": "NBb6aBRTIiOH",
        "colab_type": "text"
      },
      "source": [
        "### Problem Statement:\n",
        "We want to predict the percentage of\n",
        "marks that a student is expected to score based upon the\n",
        "number of hours they studied.\n",
        "\n",
        "Data can be found at http://bit.ly/w-data\n",
        "\n",
        "What will be predicted score if a student study for 9.25 hrs in a\n",
        "day?\n",
        "\n"
      ]
    },
    {
      "cell_type": "markdown",
      "metadata": {
        "id": "QGbfa1jVCccI",
        "colab_type": "text"
      },
      "source": [
        "### Step 1 : Import necessary libraries"
      ]
    },
    {
      "cell_type": "code",
      "metadata": {
        "id": "Q1Pv0B9bClSv",
        "colab_type": "code",
        "colab": {}
      },
      "source": [
        "import pandas as pd\n",
        "import numpy as np\n",
        "import matplotlib.pyplot as plt\n",
        "%matplotlib inline"
      ],
      "execution_count": null,
      "outputs": []
    },
    {
      "cell_type": "markdown",
      "metadata": {
        "id": "4OxApt_FC9R_",
        "colab_type": "text"
      },
      "source": [
        "### Step 2 : Read Data"
      ]
    },
    {
      "cell_type": "code",
      "metadata": {
        "id": "D6GDaQ0GDBKX",
        "colab_type": "code",
        "colab": {
          "base_uri": "https://localhost:8080/",
          "height": 195
        },
        "outputId": "92c254ca-310c-4afb-d131-1a4b23c229ba"
      },
      "source": [
        "address = \"https://raw.githubusercontent.com/AdiPersonalWorks/Random/master/student_scores%20-%20student_scores.csv\"\n",
        "data = pd.read_csv(address)\n",
        "data.head() #To view first five elements of dataframe\n"
      ],
      "execution_count": null,
      "outputs": [
        {
          "output_type": "execute_result",
          "data": {
            "text/html": [
              "<div>\n",
              "<style scoped>\n",
              "    .dataframe tbody tr th:only-of-type {\n",
              "        vertical-align: middle;\n",
              "    }\n",
              "\n",
              "    .dataframe tbody tr th {\n",
              "        vertical-align: top;\n",
              "    }\n",
              "\n",
              "    .dataframe thead th {\n",
              "        text-align: right;\n",
              "    }\n",
              "</style>\n",
              "<table border=\"1\" class=\"dataframe\">\n",
              "  <thead>\n",
              "    <tr style=\"text-align: right;\">\n",
              "      <th></th>\n",
              "      <th>Hours</th>\n",
              "      <th>Scores</th>\n",
              "    </tr>\n",
              "  </thead>\n",
              "  <tbody>\n",
              "    <tr>\n",
              "      <th>0</th>\n",
              "      <td>2.5</td>\n",
              "      <td>21</td>\n",
              "    </tr>\n",
              "    <tr>\n",
              "      <th>1</th>\n",
              "      <td>5.1</td>\n",
              "      <td>47</td>\n",
              "    </tr>\n",
              "    <tr>\n",
              "      <th>2</th>\n",
              "      <td>3.2</td>\n",
              "      <td>27</td>\n",
              "    </tr>\n",
              "    <tr>\n",
              "      <th>3</th>\n",
              "      <td>8.5</td>\n",
              "      <td>75</td>\n",
              "    </tr>\n",
              "    <tr>\n",
              "      <th>4</th>\n",
              "      <td>3.5</td>\n",
              "      <td>30</td>\n",
              "    </tr>\n",
              "  </tbody>\n",
              "</table>\n",
              "</div>"
            ],
            "text/plain": [
              "   Hours  Scores\n",
              "0    2.5      21\n",
              "1    5.1      47\n",
              "2    3.2      27\n",
              "3    8.5      75\n",
              "4    3.5      30"
            ]
          },
          "metadata": {
            "tags": []
          },
          "execution_count": 56
        }
      ]
    },
    {
      "cell_type": "markdown",
      "metadata": {
        "id": "P0Mcsy6MDhWJ",
        "colab_type": "text"
      },
      "source": [
        "### Step 3: Visualize \n",
        "\n",
        "To ensure whether variables have a linear relationship or not.\n",
        "\n",
        "\n",
        "\n"
      ]
    },
    {
      "cell_type": "code",
      "metadata": {
        "id": "x-_CBDBNDm_H",
        "colab_type": "code",
        "colab": {
          "base_uri": "https://localhost:8080/",
          "height": 295
        },
        "outputId": "994fa23c-055c-4612-df2e-6b7a44d26f37"
      },
      "source": [
        "# Both Scatter and Plot function give same result but Plot is generally faster than scatter \n",
        "# See more info at https://pythonmatplotlibtips.blogspot.com/2018/01/compare-pltplot-and-pltscatter-in-speed-python-matplotlib.html \n",
        "# plt.scatter(x=data[\"Hours\"], y=data[\"Scores\"])\n",
        "\n",
        "data.plot(x=\"Hours\",y=\"Scores\",style='o')\n",
        "plt.title('Hours vs Percentage')  \n",
        "plt.xlabel(\"Hours\")\n",
        "plt.ylabel(\"Percentage Scored\")\n",
        "plt.show()\n",
        "\n"
      ],
      "execution_count": null,
      "outputs": [
        {
          "output_type": "display_data",
          "data": {
            "image/png": "[encoded data removed]",
            "text/plain": [
              "<Figure size 432x288 with 1 Axes>"
            ]
          },
          "metadata": {
            "tags": [],
            "needs_background": "light"
          }
        }
      ]
    },
    {
      "cell_type": "markdown",
      "metadata": {
        "id": "ziyyLbj7HgBS",
        "colab_type": "text"
      },
      "source": [
        "**From the above , we can see that Percentage Scored and Hours are linearly related and hence Linear Regression can be used to predict values of Percentage (Dependent Variable or Y) based on Hours (Independent Variable or X).**"
      ]
    },
    {
      "cell_type": "markdown",
      "metadata": {
        "id": "GRbf9v5tKWci",
        "colab_type": "text"
      },
      "source": [
        "### Step 4: Preparing data\n",
        "We need to divide the data in Output( Percentage Scored) and Input (Hours). "
      ]
    },
    {
      "cell_type": "code",
      "metadata": {
        "id": "RBZOW0O6H1po",
        "colab_type": "code",
        "colab": {}
      },
      "source": [
        "X = data.iloc[:, :-1].values  \n",
        "Y = data.iloc[:, 1].values"
      ],
      "execution_count": null,
      "outputs": []
    },
    {
      "cell_type": "markdown",
      "metadata": {
        "id": "WU1Y4uHyLEKC",
        "colab_type": "text"
      },
      "source": [
        "Now, we divide data using train test split into 4 parts which are as follows:\n",
        "\n",
        "X_train will be Hours which are used in Training the algorithm\n",
        "\n",
        "Y_train will be Scores which are used in Training the algorithm\n",
        "\n",
        "X_test will be Hours which are used in testing the algorithm\n",
        "\n",
        "Y_test will be Scores which are used in testing the algorithm"
      ]
    },
    {
      "cell_type": "code",
      "metadata": {
        "id": "42Mq1NcFLhvQ",
        "colab_type": "code",
        "colab": {}
      },
      "source": [
        "from sklearn.model_selection import train_test_split  \n",
        "X_train, X_test, Y_train, Y_test = train_test_split(X, Y, test_size=0.2, random_state=0) \n",
        "#If random_sate is not set to 0,with every exceution of same program , all metrics will change rndomly because of random selection of data with each execution"
      ],
      "execution_count": null,
      "outputs": []
    },
    {
      "cell_type": "markdown",
      "metadata": {
        "id": "1Zag1sH1MHn7",
        "colab_type": "text"
      },
      "source": [
        "### Step 5:Training the Algorithm"
      ]
    },
    {
      "cell_type": "code",
      "metadata": {
        "id": "39qbWYQdMNhJ",
        "colab_type": "code",
        "colab": {
          "base_uri": "https://localhost:8080/",
          "height": 34
        },
        "outputId": "50889d49-c2ba-46fb-85e7-d45429d1e1ff"
      },
      "source": [
        "from sklearn.linear_model import LinearRegression  \n",
        "regressor = LinearRegression()  \n",
        "regressor.fit(X_train, Y_train) \n"
      ],
      "execution_count": null,
      "outputs": [
        {
          "output_type": "execute_result",
          "data": {
            "text/plain": [
              "LinearRegression(copy_X=True, fit_intercept=True, n_jobs=None, normalize=False)"
            ]
          },
          "metadata": {
            "tags": []
          },
          "execution_count": 60
        }
      ]
    },
    {
      "cell_type": "code",
      "metadata": {
        "id": "BSTnZvgyM5Cp",
        "colab_type": "code",
        "colab": {
          "base_uri": "https://localhost:8080/",
          "height": 265
        },
        "outputId": "0789cd3b-8619-48b8-98a7-ac1c01770e2b"
      },
      "source": [
        "#Plotting Regression Line\n",
        "line = regressor.coef_ * X + regressor.intercept_ # This is same as linear regression equation Y = AX +B \n",
        "#print(line)\n",
        "# line variable contains predictions of Percentage Scored for whole dataset given based on Hours from the Linear Regression Technique \n",
        "plt.scatter(X, Y)\n",
        "plt.plot(X, line)\n",
        "plt.show()"
      ],
      "execution_count": null,
      "outputs": [
        {
          "output_type": "display_data",
          "data": {
            "image/png": "[encoded data removed]",
            "text/plain": [
              "<Figure size 432x288 with 1 Axes>"
            ]
          },
          "metadata": {
            "tags": [],
            "needs_background": "light"
          }
        }
      ]
    },
    {
      "cell_type": "markdown",
      "metadata": {
        "id": "C2CeKa_iPFXh",
        "colab_type": "text"
      },
      "source": [
        "### Step 6: Testing"
      ]
    },
    {
      "cell_type": "code",
      "metadata": {
        "id": "rVb0g9whPAY0",
        "colab_type": "code",
        "colab": {
          "base_uri": "https://localhost:8080/",
          "height": 134
        },
        "outputId": "75142c40-cc2e-4dd0-ff3a-7964a4d9d561"
      },
      "source": [
        "print(f'Testing data is :\\n{X_test}') # Testing data of independent varible\n",
        "Y_pred = regressor.predict(X_test) # Predicting the scores\n",
        "print(f'Predicted Scores are : {Y_pred}')\n"
      ],
      "execution_count": null,
      "outputs": [
        {
          "output_type": "stream",
          "text": [
            "Testing data is :\n",
            "[[1.5]\n",
            " [3.2]\n",
            " [7.4]\n",
            " [2.5]\n",
            " [5.9]]\n",
            "Predicted Scores are : [16.88414476 33.73226078 75.357018   26.79480124 60.49103328]\n"
          ],
          "name": "stdout"
        }
      ]
    },
    {
      "cell_type": "markdown",
      "metadata": {
        "id": "U_h40TJgSF88",
        "colab_type": "text"
      },
      "source": [
        "### Step 7 : Evaluating The model"
      ]
    },
    {
      "cell_type": "code",
      "metadata": {
        "id": "BCKCJuxLPvuM",
        "colab_type": "code",
        "colab": {
          "base_uri": "https://localhost:8080/",
          "height": 195
        },
        "outputId": "8fb8ecf9-82be-472c-ba5b-efee0696a04b"
      },
      "source": [
        "compare = pd.DataFrame({'Actual': Y_test, 'Predicted': Y_pred})  \n",
        "compare"
      ],
      "execution_count": null,
      "outputs": [
        {
          "output_type": "execute_result",
          "data": {
            "text/html": [
              "<div>\n",
              "<style scoped>\n",
              "    .dataframe tbody tr th:only-of-type {\n",
              "        vertical-align: middle;\n",
              "    }\n",
              "\n",
              "    .dataframe tbody tr th {\n",
              "        vertical-align: top;\n",
              "    }\n",
              "\n",
              "    .dataframe thead th {\n",
              "        text-align: right;\n",
              "    }\n",
              "</style>\n",
              "<table border=\"1\" class=\"dataframe\">\n",
              "  <thead>\n",
              "    <tr style=\"text-align: right;\">\n",
              "      <th></th>\n",
              "      <th>Actual</th>\n",
              "      <th>Predicted</th>\n",
              "    </tr>\n",
              "  </thead>\n",
              "  <tbody>\n",
              "    <tr>\n",
              "      <th>0</th>\n",
              "      <td>20</td>\n",
              "      <td>16.884145</td>\n",
              "    </tr>\n",
              "    <tr>\n",
              "      <th>1</th>\n",
              "      <td>27</td>\n",
              "      <td>33.732261</td>\n",
              "    </tr>\n",
              "    <tr>\n",
              "      <th>2</th>\n",
              "      <td>69</td>\n",
              "      <td>75.357018</td>\n",
              "    </tr>\n",
              "    <tr>\n",
              "      <th>3</th>\n",
              "      <td>30</td>\n",
              "      <td>26.794801</td>\n",
              "    </tr>\n",
              "    <tr>\n",
              "      <th>4</th>\n",
              "      <td>62</td>\n",
              "      <td>60.491033</td>\n",
              "    </tr>\n",
              "  </tbody>\n",
              "</table>\n",
              "</div>"
            ],
            "text/plain": [
              "   Actual  Predicted\n",
              "0      20  16.884145\n",
              "1      27  33.732261\n",
              "2      69  75.357018\n",
              "3      30  26.794801\n",
              "4      62  60.491033"
            ]
          },
          "metadata": {
            "tags": []
          },
          "execution_count": 63
        }
      ]
    },
    {
      "cell_type": "code",
      "metadata": {
        "id": "RPM0JtMKP_kK",
        "colab_type": "code",
        "colab": {}
      },
      "source": [
        "from sklearn import metrics \n",
        "r2= sklearn.metrics.r2_score(Y_test, Y_pred)\n",
        "mae = sklearn.metrics.mean_absolute_error(Y_test, Y_pred)"
      ],
      "execution_count": null,
      "outputs": []
    },
    {
      "cell_type": "code",
      "metadata": {
        "id": "ekymBAC8YvN8",
        "colab_type": "code",
        "colab": {
          "base_uri": "https://localhost:8080/",
          "height": 34
        },
        "outputId": "a8c65685-9abd-400a-f7d0-a1652d84eb71"
      },
      "source": [
        "print(f'R squared is : {np.round(r2*100,2)}%')"
      ],
      "execution_count": null,
      "outputs": [
        {
          "output_type": "stream",
          "text": [
            "R squared is : 94.55%\n"
          ],
          "name": "stdout"
        }
      ]
    },
    {
      "cell_type": "markdown",
      "metadata": {
        "id": "d83gEWVeYkxc",
        "colab_type": "text"
      },
      "source": [
        "R squared also known as coefficient of determination is a statistical measure that represents proportion of variance in dependant variable explained by independent variable. It is between 0 (worst model) to 1 (best model).\n",
        "\n",
        "That is , R^2 = 0.9455 implies that 94.55% of variance in Y (Scores) can be explained by X (Hours)."
      ]
    },
    {
      "cell_type": "code",
      "metadata": {
        "id": "bZaUu9nEaysu",
        "colab_type": "code",
        "colab": {
          "base_uri": "https://localhost:8080/",
          "height": 34
        },
        "outputId": "c4433712-eb54-43fc-9261-fc04042332d3"
      },
      "source": [
        "print(f'Mean Absolute Error is : {mae}')"
      ],
      "execution_count": null,
      "outputs": [
        {
          "output_type": "stream",
          "text": [
            "Mean Absolute Error is : 4.183859899002982\n"
          ],
          "name": "stdout"
        }
      ]
    },
    {
      "cell_type": "markdown",
      "metadata": {
        "id": "faQj_45ZdNMP",
        "colab_type": "text"
      },
      "source": [
        "The mean absolute error is the mean of the absolute values of the differences between the forecasted values and the actual values.\n",
        "\n",
        "Here, it signifies that on average , we can expect our predictions to have an error of 4.18 units. "
      ]
    },
    {
      "cell_type": "markdown",
      "metadata": {
        "id": "FKaGjz6AeFpN",
        "colab_type": "text"
      },
      "source": [
        "### Step 8: Predicting Own data (Given in Question)"
      ]
    },
    {
      "cell_type": "code",
      "metadata": {
        "id": "vNmSnenxeN0k",
        "colab_type": "code",
        "colab": {
          "base_uri": "https://localhost:8080/",
          "height": 34
        },
        "outputId": "9f7b9cee-eda0-44f8-cd3d-94e716799d43"
      },
      "source": [
        "hour = [[9.25]]\n",
        "score_pred = regressor.predict(hour)\n",
        "print(f'The predicted score if a student studies for 9.25 hrs in a day will be {score_pred[0].round(0)} ')\n",
        "\n"
      ],
      "execution_count": null,
      "outputs": [
        {
          "output_type": "stream",
          "text": [
            "The predicted score if a student studies for 9.25 hrs in a day will be 94.0 \n"
          ],
          "name": "stdout"
        }
      ]
    },
    {
      "cell_type": "markdown",
      "metadata": {
        "id": "o6JEHV_VdrkH",
        "colab_type": "text"
      },
      "source": [
        "---\n",
        "\n",
        "\n",
        "\n",
        "*This task is done as part of Data Science and Analytics Internship at GRIP: The Sparks Foundation*\n",
        "\n",
        "---\n"
      ]
    }
  ]
}